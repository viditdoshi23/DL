{
  "nbformat": 4,
  "nbformat_minor": 0,
  "metadata": {
    "colab": {
      "name": "DL-Test 1-J012.ipynb",
      "provenance": [],
      "collapsed_sections": []
    },
    "kernelspec": {
      "name": "python3",
      "display_name": "Python 3"
    },
    "accelerator": "GPU"
  },
  "cells": [
    {
      "cell_type": "code",
      "metadata": {
        "id": "rz64Atu9bRmd",
        "colab_type": "code",
        "colab": {}
      },
      "source": [
        "from keras.datasets import fashion_mnist\n",
        "from keras.utils import to_categorical\n",
        "from keras.models import Sequential\n",
        "from keras.layers import Conv2D\n",
        "from keras.layers import MaxPooling2D\n",
        "from keras.layers import Dense\n",
        "from keras.layers import Flatten\n",
        "from keras.optimizers import SGD\n",
        "from matplotlib import pyplot\n",
        "from sklearn.model_selection import KFold\n",
        "from numpy import mean\n",
        "from numpy import std"
      ],
      "execution_count": 0,
      "outputs": []
    },
    {
      "cell_type": "code",
      "metadata": {
        "id": "hdSfBopVbIcm",
        "colab_type": "code",
        "colab": {}
      },
      "source": [
        "def load_dataset():\n",
        "\t# load dataset\n",
        "\t(trainX, trainY), (testX, testY) = fashion_mnist.load_data()\n",
        "\t# reshape dataset to have a single channel\n",
        "\ttrainX = trainX.reshape((trainX.shape[0], 28, 28, 1))\n",
        "\ttestX = testX.reshape((testX.shape[0], 28, 28, 1))\n",
        "\t# one hot encode target values\n",
        "\ttrainY = to_categorical(trainY)\n",
        "\ttestY = to_categorical(testY)\n",
        "\treturn trainX, trainY, testX, testY\n",
        " \n",
        "# scale pixels\n",
        "def prep_pixels(train, test):\n",
        "\t# convert from integers to floats\n",
        "\ttrain_norm = train.astype('float32')\n",
        "\ttest_norm = test.astype('float32')\n",
        "\t# normalize to range 0-1\n",
        "\ttrain_norm = train_norm / 255.0\n",
        "\ttest_norm = test_norm / 255.0\n",
        "\t# return normalized images\n",
        "\treturn train_norm, test_norm\n",
        " \n",
        "# define cnn model\n",
        "def define_model():\n",
        "\tmodel = Sequential()\n",
        "\tmodel.add(Conv2D(32, (3, 3), activation='relu', kernel_initializer='he_uniform', input_shape=(28, 28, 1)))\n",
        "\tmodel.add(MaxPooling2D((2, 2)))\n",
        "\tmodel.add(Flatten())\n",
        "\tmodel.add(Dense(100, activation='relu', kernel_initializer='he_uniform'))\n",
        "\tmodel.add(Dense(10, activation='softmax'))\n",
        "\t# compile model\n",
        "\topt = SGD(lr=0.01, momentum=0.9)\n",
        "\tmodel.compile(optimizer=opt, loss='categorical_crossentropy', metrics=['accuracy'])\n",
        "\treturn model\n",
        "\n",
        "# evaluate a model using k-fold cross-validation\n",
        "def evaluate_model(dataX, dataY, n_folds=5):\n",
        "\tscores, histories = list(), list()\n",
        "\t# prepare cross validation\n",
        "\tkfold = KFold(n_folds, shuffle=True, random_state=1)\n",
        "\t# enumerate splits\n",
        "\tfor train_ix, test_ix in kfold.split(dataX):\n",
        "\t\t# define model\n",
        "\t\tmodel = define_model()\n",
        "\t\t# select rows for train and test\n",
        "\t\ttrainX, trainY, testX, testY = dataX[train_ix], dataY[train_ix], dataX[test_ix], dataY[test_ix]\n",
        "\t\t# fit model\n",
        "\t\thistory = model.fit(trainX, trainY, epochs=10, batch_size=32, validation_data=(testX, testY), verbose=1)\n",
        "\t\t# evaluate model\n",
        "\t\t_, acc = model.evaluate(testX, testY, verbose=0)\n",
        "\t\tprint('> %.3f' % (acc * 100.0))\n",
        "\t\t# append scores\n",
        "\t\tscores.append(acc)\n",
        "\t\thistories.append(history)\n",
        "\treturn scores, histories\n",
        "\n",
        "# plot diagnostic learning curves\n",
        "def summarize_diagnostics(histories):\n",
        "\tfor i in range(len(histories)):\n",
        "\t\t# plot loss\n",
        "\t\tpyplot.subplot(211)\n",
        "\t\tpyplot.title('Cross Entropy Loss')\n",
        "\t\tpyplot.plot(histories[i].history['loss'], color='blue', label='train')\n",
        "\t\tpyplot.plot(histories[i].history['val_loss'], color='orange', label='test')\n",
        "\t\t# plot accuracy\n",
        "\t\tpyplot.subplot(212)\n",
        "\t\tpyplot.title('Classification Accuracy')\n",
        "\t\tpyplot.plot(histories[i].history['acc'], color='blue', label='train')\n",
        "\t\tpyplot.plot(histories[i].history['val_acc'], color='orange', label='test')\n",
        "\tpyplot.show()\n",
        " \n",
        "# summarize model performance\n",
        "def summarize_performance(scores):\n",
        "\t# print summary\n",
        "\tprint('Accuracy: mean=%.3f std=%.3f, n=%d' % (mean(scores)*100, std(scores)*100, len(scores)))\n",
        "\t# box and whisker plots of results\n",
        "\tpyplot.boxplot(scores)\n",
        "\tpyplot.show()\n",
        " \n",
        "def run_test_harness():\n",
        "\t# load dataset\n",
        "\ttrainX, trainY, testX, testY = load_dataset()\n",
        "\t# prepare pixel data\n",
        "\ttrainX, testX = prep_pixels(trainX, testX)\n",
        "\t# evaluate model\n",
        "\tscores, histories = evaluate_model(trainX, trainY)\n",
        "\t# learning curves\n",
        "\tsummarize_diagnostics(histories)\n",
        "\t# summarize estimated performance\n",
        "\tsummarize_performance(scores)\n",
        " "
      ],
      "execution_count": 0,
      "outputs": []
    },
    {
      "cell_type": "code",
      "metadata": {
        "id": "_-O1kJOUf2r-",
        "colab_type": "code",
        "outputId": "63bfa5de-c8b9-441a-92d6-8d7b6e44d36e",
        "colab": {
          "base_uri": "https://localhost:8080/",
          "height": 1000
        }
      },
      "source": [
        "# entry point, run the test harness\n",
        "run_test_harness()"
      ],
      "execution_count": 10,
      "outputs": [
        {
          "output_type": "stream",
          "text": [
            "Train on 48000 samples, validate on 12000 samples\n",
            "Epoch 1/10\n",
            "48000/48000 [==============================] - 6s 126us/step - loss: 0.4434 - acc: 0.8398 - val_loss: 0.3218 - val_acc: 0.8808\n",
            "Epoch 2/10\n",
            "48000/48000 [==============================] - 6s 118us/step - loss: 0.2938 - acc: 0.8932 - val_loss: 0.2945 - val_acc: 0.8888\n",
            "Epoch 3/10\n",
            "48000/48000 [==============================] - 6s 120us/step - loss: 0.2495 - acc: 0.9084 - val_loss: 0.2703 - val_acc: 0.9007\n",
            "Epoch 4/10\n",
            "48000/48000 [==============================] - 6s 119us/step - loss: 0.2200 - acc: 0.9201 - val_loss: 0.2627 - val_acc: 0.9046\n",
            "Epoch 5/10\n",
            "48000/48000 [==============================] - 6s 119us/step - loss: 0.1954 - acc: 0.9284 - val_loss: 0.2537 - val_acc: 0.9088\n",
            "Epoch 6/10\n",
            "48000/48000 [==============================] - 6s 120us/step - loss: 0.1772 - acc: 0.9347 - val_loss: 0.2565 - val_acc: 0.9113\n",
            "Epoch 7/10\n",
            "48000/48000 [==============================] - 6s 120us/step - loss: 0.1570 - acc: 0.9420 - val_loss: 0.2706 - val_acc: 0.9082\n",
            "Epoch 8/10\n",
            "48000/48000 [==============================] - 6s 119us/step - loss: 0.1404 - acc: 0.9485 - val_loss: 0.2539 - val_acc: 0.9134\n",
            "Epoch 9/10\n",
            "48000/48000 [==============================] - 6s 120us/step - loss: 0.1255 - acc: 0.9533 - val_loss: 0.2645 - val_acc: 0.9108\n",
            "Epoch 10/10\n",
            "48000/48000 [==============================] - 6s 121us/step - loss: 0.1133 - acc: 0.9581 - val_loss: 0.2730 - val_acc: 0.9162\n",
            "> 91.617\n",
            "Train on 48000 samples, validate on 12000 samples\n",
            "Epoch 1/10\n",
            "48000/48000 [==============================] - 6s 128us/step - loss: 0.4271 - acc: 0.8470 - val_loss: 0.3554 - val_acc: 0.8664\n",
            "Epoch 2/10\n",
            "48000/48000 [==============================] - 6s 118us/step - loss: 0.2913 - acc: 0.8939 - val_loss: 0.2810 - val_acc: 0.8992\n",
            "Epoch 3/10\n",
            "48000/48000 [==============================] - 6s 118us/step - loss: 0.2467 - acc: 0.9096 - val_loss: 0.2606 - val_acc: 0.9048\n",
            "Epoch 4/10\n",
            "48000/48000 [==============================] - 6s 118us/step - loss: 0.2178 - acc: 0.9188 - val_loss: 0.2558 - val_acc: 0.9059\n",
            "Epoch 5/10\n",
            "48000/48000 [==============================] - 6s 116us/step - loss: 0.1947 - acc: 0.9296 - val_loss: 0.2597 - val_acc: 0.9055\n",
            "Epoch 6/10\n",
            "48000/48000 [==============================] - 6s 117us/step - loss: 0.1736 - acc: 0.9353 - val_loss: 0.2542 - val_acc: 0.9091\n",
            "Epoch 7/10\n",
            "48000/48000 [==============================] - 6s 117us/step - loss: 0.1541 - acc: 0.9430 - val_loss: 0.2499 - val_acc: 0.9148\n",
            "Epoch 8/10\n",
            "48000/48000 [==============================] - 6s 117us/step - loss: 0.1417 - acc: 0.9474 - val_loss: 0.2436 - val_acc: 0.9172\n",
            "Epoch 9/10\n",
            "48000/48000 [==============================] - 6s 119us/step - loss: 0.1270 - acc: 0.9528 - val_loss: 0.2584 - val_acc: 0.9097\n",
            "Epoch 10/10\n",
            "48000/48000 [==============================] - 6s 119us/step - loss: 0.1121 - acc: 0.9597 - val_loss: 0.2827 - val_acc: 0.9096\n",
            "> 90.958\n",
            "Train on 48000 samples, validate on 12000 samples\n",
            "Epoch 1/10\n",
            "48000/48000 [==============================] - 6s 126us/step - loss: 0.4332 - acc: 0.8415 - val_loss: 0.3283 - val_acc: 0.8882\n",
            "Epoch 2/10\n",
            "48000/48000 [==============================] - 6s 117us/step - loss: 0.2932 - acc: 0.8937 - val_loss: 0.2953 - val_acc: 0.8959\n",
            "Epoch 3/10\n",
            "48000/48000 [==============================] - 6s 119us/step - loss: 0.2493 - acc: 0.9084 - val_loss: 0.2955 - val_acc: 0.8928\n",
            "Epoch 4/10\n",
            "48000/48000 [==============================] - 6s 117us/step - loss: 0.2230 - acc: 0.9176 - val_loss: 0.2693 - val_acc: 0.9032\n",
            "Epoch 5/10\n",
            "48000/48000 [==============================] - 6s 119us/step - loss: 0.2017 - acc: 0.9253 - val_loss: 0.2617 - val_acc: 0.9054\n",
            "Epoch 6/10\n",
            "48000/48000 [==============================] - 6s 116us/step - loss: 0.1788 - acc: 0.9340 - val_loss: 0.2679 - val_acc: 0.9047\n",
            "Epoch 7/10\n",
            "48000/48000 [==============================] - 6s 118us/step - loss: 0.1626 - acc: 0.9406 - val_loss: 0.2708 - val_acc: 0.9062\n",
            "Epoch 8/10\n",
            "48000/48000 [==============================] - 6s 116us/step - loss: 0.1448 - acc: 0.9460 - val_loss: 0.2612 - val_acc: 0.9131\n",
            "Epoch 9/10\n",
            "48000/48000 [==============================] - 6s 117us/step - loss: 0.1315 - acc: 0.9512 - val_loss: 0.2630 - val_acc: 0.9134\n",
            "Epoch 10/10\n",
            "48000/48000 [==============================] - 6s 116us/step - loss: 0.1170 - acc: 0.9569 - val_loss: 0.2865 - val_acc: 0.9108\n",
            "> 91.083\n",
            "Train on 48000 samples, validate on 12000 samples\n",
            "Epoch 1/10\n",
            "48000/48000 [==============================] - 6s 129us/step - loss: 0.4331 - acc: 0.8463 - val_loss: 0.3160 - val_acc: 0.8852\n",
            "Epoch 2/10\n",
            "48000/48000 [==============================] - 6s 119us/step - loss: 0.2936 - acc: 0.8935 - val_loss: 0.2801 - val_acc: 0.8970\n",
            "Epoch 3/10\n",
            "48000/48000 [==============================] - 6s 117us/step - loss: 0.2485 - acc: 0.9099 - val_loss: 0.2764 - val_acc: 0.9007\n",
            "Epoch 4/10\n",
            "48000/48000 [==============================] - 6s 117us/step - loss: 0.2200 - acc: 0.9196 - val_loss: 0.2762 - val_acc: 0.9008\n",
            "Epoch 5/10\n",
            "48000/48000 [==============================] - 5s 114us/step - loss: 0.1982 - acc: 0.9254 - val_loss: 0.2525 - val_acc: 0.9101\n",
            "Epoch 6/10\n",
            "48000/48000 [==============================] - 6s 115us/step - loss: 0.1764 - acc: 0.9358 - val_loss: 0.2573 - val_acc: 0.9064\n",
            "Epoch 7/10\n",
            "48000/48000 [==============================] - 5s 114us/step - loss: 0.1574 - acc: 0.9416 - val_loss: 0.2646 - val_acc: 0.9082\n",
            "Epoch 8/10\n",
            "48000/48000 [==============================] - 6s 117us/step - loss: 0.1431 - acc: 0.9476 - val_loss: 0.2727 - val_acc: 0.9102\n",
            "Epoch 9/10\n",
            "48000/48000 [==============================] - 6s 115us/step - loss: 0.1273 - acc: 0.9530 - val_loss: 0.2663 - val_acc: 0.9114\n",
            "Epoch 10/10\n",
            "48000/48000 [==============================] - 6s 117us/step - loss: 0.1148 - acc: 0.9575 - val_loss: 0.2876 - val_acc: 0.9095\n",
            "> 90.950\n",
            "Train on 48000 samples, validate on 12000 samples\n",
            "Epoch 1/10\n",
            "48000/48000 [==============================] - 6s 127us/step - loss: 0.4469 - acc: 0.8408 - val_loss: 0.3352 - val_acc: 0.8803\n",
            "Epoch 2/10\n",
            "48000/48000 [==============================] - 6s 117us/step - loss: 0.3019 - acc: 0.8893 - val_loss: 0.2975 - val_acc: 0.8915\n",
            "Epoch 3/10\n",
            "48000/48000 [==============================] - 6s 115us/step - loss: 0.2552 - acc: 0.9069 - val_loss: 0.2921 - val_acc: 0.8962\n",
            "Epoch 4/10\n",
            "48000/48000 [==============================] - 6s 118us/step - loss: 0.2259 - acc: 0.9160 - val_loss: 0.2601 - val_acc: 0.9091\n",
            "Epoch 5/10\n",
            "48000/48000 [==============================] - 6s 116us/step - loss: 0.2058 - acc: 0.9240 - val_loss: 0.2586 - val_acc: 0.9077\n",
            "Epoch 6/10\n",
            "48000/48000 [==============================] - 6s 117us/step - loss: 0.1844 - acc: 0.9311 - val_loss: 0.2712 - val_acc: 0.9042\n",
            "Epoch 7/10\n",
            "48000/48000 [==============================] - 6s 117us/step - loss: 0.1653 - acc: 0.9399 - val_loss: 0.2609 - val_acc: 0.9113\n",
            "Epoch 8/10\n",
            "48000/48000 [==============================] - 5s 113us/step - loss: 0.1512 - acc: 0.9438 - val_loss: 0.2665 - val_acc: 0.9082\n",
            "Epoch 9/10\n",
            "48000/48000 [==============================] - 6s 115us/step - loss: 0.1364 - acc: 0.9499 - val_loss: 0.2739 - val_acc: 0.9082\n",
            "Epoch 10/10\n",
            "48000/48000 [==============================] - 6s 115us/step - loss: 0.1210 - acc: 0.9560 - val_loss: 0.2802 - val_acc: 0.9106\n",
            "> 91.058\n"
          ],
          "name": "stdout"
        },
        {
          "output_type": "stream",
          "text": [
            "/usr/local/lib/python3.6/dist-packages/ipykernel_launcher.py:61: MatplotlibDeprecationWarning: Adding an axes using the same arguments as a previous axes currently reuses the earlier instance.  In a future version, a new instance will always be created and returned.  Meanwhile, this warning can be suppressed, and the future behavior ensured, by passing a unique label to each axes instance.\n",
            "/usr/local/lib/python3.6/dist-packages/ipykernel_launcher.py:66: MatplotlibDeprecationWarning: Adding an axes using the same arguments as a previous axes currently reuses the earlier instance.  In a future version, a new instance will always be created and returned.  Meanwhile, this warning can be suppressed, and the future behavior ensured, by passing a unique label to each axes instance.\n"
          ],
          "name": "stderr"
        },
        {
          "output_type": "display_data",
          "data": {
            "image/png": "[encoded data removed]",
            "text/plain": [
              "<Figure size 432x288 with 2 Axes>"
            ]
          },
          "metadata": {
            "tags": []
          }
        },
        {
          "output_type": "stream",
          "text": [
            "Accuracy: mean=91.133 std=0.247, n=5\n"
          ],
          "name": "stdout"
        },
        {
          "output_type": "display_data",
          "data": {
            "image/png": "[encoded data removed]",
            "text/plain": [
              "<Figure size 432x288 with 1 Axes>"
            ]
          },
          "metadata": {
            "tags": []
          }
        }
      ]
    },
    {
      "cell_type": "code",
      "metadata": {
        "id": "vrUmdNqRoLUb",
        "colab_type": "code",
        "colab": {}
      },
      "source": [
        ""
      ],
      "execution_count": 0,
      "outputs": []
    }
  ]
}